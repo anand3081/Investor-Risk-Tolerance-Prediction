{
 "cells": [
  {
   "cell_type": "markdown",
   "id": "6d333593",
   "metadata": {},
   "source": [
    "# Robo Advisory Dashboard"
   ]
  },
  {
   "cell_type": "code",
   "execution_count": 9,
   "id": "0fc9c39a",
   "metadata": {},
   "outputs": [],
   "source": [
    "# Import Libraries\n",
    "# Install packages as needed (hashtagged below)\n",
    "\n",
    "import pandas as pd #pip install pandas openpyxl\n",
    "import plotly.express as px #pip install plotly-express\n",
    "import dash #pip install dash\n",
    "import dash_core_components as dcc #pip install dash-core-components\n",
    "import dash_html_components as html #pip install dash-html-components\n",
    "from dash.dependencies import Input,Output,State\n",
    "import pandas as pd\n",
    "import numpy as np\n",
    "import plotly.graph_objs as go\n",
    "import dash_daq as daq #pip install dash-daq\n",
    "from pickle import load "
   ]
  },
  {
   "cell_type": "code",
   "execution_count": null,
   "id": "8a1fb783",
   "metadata": {},
   "outputs": [],
   "source": [
    "# Load Data\n",
    "df ="
   ]
  },
  {
   "cell_type": "code",
   "execution_count": null,
   "id": "2d04fcba",
   "metadata": {},
   "outputs": [],
   "source": []
  },
  {
   "cell_type": "code",
   "execution_count": null,
   "id": "d14bc6cc",
   "metadata": {},
   "outputs": [],
   "source": []
  },
  {
   "cell_type": "code",
   "execution_count": null,
   "id": "ceef276c",
   "metadata": {},
   "outputs": [],
   "source": []
  },
  {
   "cell_type": "code",
   "execution_count": null,
   "id": "cd5edda0",
   "metadata": {},
   "outputs": [],
   "source": []
  },
  {
   "cell_type": "code",
   "execution_count": null,
   "id": "aa747b53",
   "metadata": {},
   "outputs": [],
   "source": []
  }
 ],
 "metadata": {
  "kernelspec": {
   "display_name": "Python 3 (ipykernel)",
   "language": "python",
   "name": "python3"
  },
  "language_info": {
   "codemirror_mode": {
    "name": "ipython",
    "version": 3
   },
   "file_extension": ".py",
   "mimetype": "text/x-python",
   "name": "python",
   "nbconvert_exporter": "python",
   "pygments_lexer": "ipython3",
   "version": "3.9.12"
  }
 },
 "nbformat": 4,
 "nbformat_minor": 5
}
